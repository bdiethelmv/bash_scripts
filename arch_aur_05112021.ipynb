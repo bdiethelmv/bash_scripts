{
 "cells": [
  {
   "cell_type": "code",
   "execution_count": 1,
   "metadata": {},
   "outputs": [],
   "source": [
    "## November 22 2020\n",
    "## Author BDV\n",
    "## The Arch User Repository (AUR)"
   ]
  },
  {
   "cell_type": "markdown",
   "metadata": {},
   "source": [
    "To browse for packages, go to aur.archlinux.org and type a search query\n",
    "in \"Package Search\"\n",
    "\n",
    "When a package is found, click download snapshot and save the tarball\n",
    "Usually the following works:\n",
    "\n",
    "    tar -xvf <filename>\n",
    "\n",
    "Change directory to the extracted folder\n",
    "\n",
    "The PKGBUILD is the file that builds the program. It is a good idea to\n",
    "read what it actually does before proceeding with the command below\n",
    "\n",
    "    makepkg -s\n",
    "\n",
    "When done, install the generated package\n",
    "\n",
    "    sudo pacman -U <tarball name>"
   ]
  },
  {
   "cell_type": "code",
   "execution_count": null,
   "metadata": {},
   "outputs": [],
   "source": []
  }
 ],
 "metadata": {
  "kernelspec": {
   "display_name": "Python 3",
   "language": "python",
   "name": "python3"
  },
  "language_info": {
   "codemirror_mode": {
    "name": "ipython",
    "version": 3
   },
   "file_extension": ".py",
   "mimetype": "text/x-python",
   "name": "python",
   "nbconvert_exporter": "python",
   "pygments_lexer": "ipython3",
   "version": "3.8.5"
  }
 },
 "nbformat": 4,
 "nbformat_minor": 4
}
